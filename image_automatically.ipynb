{
 "cells": [
  {
   "cell_type": "code",
   "execution_count": 1,
   "metadata": {},
   "outputs": [
    {
     "name": "stdout",
     "output_type": "stream",
     "text": [
      "Requirement already satisfied: konlpy in c:\\users\\user\\anaconda3\\lib\\site-packages (0.5.1)\n",
      "Requirement already satisfied: JPype1>=0.5.7 in c:\\users\\user\\anaconda3\\lib\\site-packages (from konlpy) (0.7.0)\n"
     ]
    },
    {
     "name": "stderr",
     "output_type": "stream",
     "text": [
      "You are using pip version 10.0.1, however version 19.2.1 is available.\n",
      "You should consider upgrading via the 'python -m pip install --upgrade pip' command.\n"
     ]
    }
   ],
   "source": [
    "!pip install konlpy\n",
    "from konlpy.tag import Komoran\n",
    "import requests\n",
    "import lxml.html\n",
    "import cssselect as external_cssselect\n",
    "from lxml.cssselect import CSSSelector\n",
    "import tqdm\n",
    "import time"
   ]
  },
  {
   "cell_type": "code",
   "execution_count": 2,
   "metadata": {},
   "outputs": [
    {
     "data": {
      "text/plain": [
       "'https://search.daum.net/search?nil_suggest=btn&w=news&DA=STC&cluster=y&q=화재원인&period=y&sd=20190708000001&ed=20190808235959'"
      ]
     },
     "execution_count": 2,
     "metadata": {},
     "output_type": "execute_result"
    }
   ],
   "source": [
    "from dateutil.relativedelta import relativedelta\n",
    "from datetime import datetime, timedelta\n",
    "\n",
    "datetime_month = datetime.now()-relativedelta(months=1)\n",
    "month_ago =  datetime_month.strftime(\"%Y%m%d\") #strftime() 은 지정된 포맷에 맞춰 date 객체의 정보를 문자열로 반환한다. month_ago는 오늘날짜의 한달 전\n",
    "today = datetime.today().strftime(\"%Y%m%d\")    #today는 오늘 날짜 반환\n",
    "\n",
    "url = 'https://search.daum.net/search?nil_suggest=btn&w=news&DA=STC&cluster=y&q=화재원인&period=y&sd='+ month_ago +'000001&ed=' +  today +'235959'\n",
    "url"
   ]
  },
  {
   "cell_type": "code",
   "execution_count": 15,
   "metadata": {},
   "outputs": [
    {
     "data": {
      "text/plain": [
       "12"
      ]
     },
     "execution_count": 15,
     "metadata": {},
     "output_type": "execute_result"
    }
   ],
   "source": [
    "urls = [] \n",
    "for page in range(1, ): \n",
    "    res = requests.get(url.format(page)) \n",
    "    root = lxml.html.fromstring(res.text) \n",
    "    for link in root.cssselect('a.f_nb'): \n",
    "         urls.append(link.attrib['href'])\n",
    "len(urls)"
   ]
  },
  {
   "cell_type": "code",
   "execution_count": 16,
   "metadata": {},
   "outputs": [
    {
     "data": {
      "application/vnd.jupyter.widget-view+json": {
       "model_id": "7097788937de4e00a8f94c5a36b2697a",
       "version_major": 2,
       "version_minor": 0
      },
      "text/plain": [
       "HBox(children=(IntProgress(value=0, max=12), HTML(value='')))"
      ]
     },
     "metadata": {},
     "output_type": "display_data"
    },
    {
     "name": "stdout",
     "output_type": "stream",
     "text": [
      "0   200\n",
      "1   200\n",
      "2   200\n",
      "3   200\n",
      "4   200\n",
      "5   200\n",
      "6   200\n",
      "7   200\n",
      "\n"
     ]
    }
   ],
   "source": [
    "articles = [] \n",
    "i=0\n",
    "\n",
    "for u in tqdm.tqdm_notebook(urls): \n",
    "    if not u.startswith('http'): \n",
    "        continue\n",
    "    try :\n",
    "        res = requests.get(u) \n",
    "        time.sleep(1)\n",
    "        print(i ,' ',res.status_code)\n",
    "        i = i+1\n",
    "        root = lxml.html.fromstring(res.text) \n",
    "        body = root.cssselect('.article_view').pop() \n",
    "        content = body.text_content().strip() # 본문을 가져와 앞뒤 공백을 제거\n",
    "        articles.append(content) \n",
    "    except :\n",
    "        pass\n"
   ]
  },
  {
   "cell_type": "code",
   "execution_count": 17,
   "metadata": {},
   "outputs": [
    {
     "data": {
      "text/html": [
       "<div>\n",
       "<style scoped>\n",
       "    .dataframe tbody tr th:only-of-type {\n",
       "        vertical-align: middle;\n",
       "    }\n",
       "\n",
       "    .dataframe tbody tr th {\n",
       "        vertical-align: top;\n",
       "    }\n",
       "\n",
       "    .dataframe thead th {\n",
       "        text-align: right;\n",
       "    }\n",
       "</style>\n",
       "<table border=\"1\" class=\"dataframe\">\n",
       "  <thead>\n",
       "    <tr style=\"text-align: right;\">\n",
       "      <th></th>\n",
       "      <th>article</th>\n",
       "    </tr>\n",
       "  </thead>\n",
       "  <tbody>\n",
       "    <tr>\n",
       "      <th>0</th>\n",
       "      <td>(안성=연합뉴스) 홍기원 기자 = 소방관 2명이 사상하고, 9명의 부상자가 발생한 ...</td>\n",
       "    </tr>\n",
       "    <tr>\n",
       "      <th>1</th>\n",
       "      <td>(안성=연합뉴스) 홍기원 기자 = 소방관 2명이 사상하고, 9명의 부상자가 발생한 ...</td>\n",
       "    </tr>\n",
       "    <tr>\n",
       "      <th>2</th>\n",
       "      <td>(안성=뉴스1) 조태형 기자 = 7일 오전 경기도 안성시 양성면의 공장 화재 현장에...</td>\n",
       "    </tr>\n",
       "    <tr>\n",
       "      <th>3</th>\n",
       "      <td>오늘(28일) 아침 7시 15분쯤 경기도 포천시에 있는 군부대 보급창고에서 불이 났...</td>\n",
       "    </tr>\n",
       "    <tr>\n",
       "      <th>4</th>\n",
       "      <td>(안성=연합뉴스) 홍기원 기자 = 소방관 2명이 사상하고, 9명의 부상자가 발생한 ...</td>\n",
       "    </tr>\n",
       "  </tbody>\n",
       "</table>\n",
       "</div>"
      ],
      "text/plain": [
       "                                             article\n",
       "0  (안성=연합뉴스) 홍기원 기자 = 소방관 2명이 사상하고, 9명의 부상자가 발생한 ...\n",
       "1  (안성=연합뉴스) 홍기원 기자 = 소방관 2명이 사상하고, 9명의 부상자가 발생한 ...\n",
       "2  (안성=뉴스1) 조태형 기자 = 7일 오전 경기도 안성시 양성면의 공장 화재 현장에...\n",
       "3  오늘(28일) 아침 7시 15분쯤 경기도 포천시에 있는 군부대 보급창고에서 불이 났...\n",
       "4  (안성=연합뉴스) 홍기원 기자 = 소방관 2명이 사상하고, 9명의 부상자가 발생한 ..."
      ]
     },
     "execution_count": 17,
     "metadata": {},
     "output_type": "execute_result"
    }
   ],
   "source": [
    "import pandas\n",
    "df = pandas.DataFrame({'article': articles}) \n",
    "# df.to_excel('daum_news_ai.xlsx')\n",
    "df.head()"
   ]
  },
  {
   "cell_type": "code",
   "execution_count": 18,
   "metadata": {},
   "outputs": [
    {
     "name": "stderr",
     "output_type": "stream",
     "text": [
      "C:\\Users\\user\\Anaconda3\\lib\\site-packages\\konlpy\\tag\\_okt.py:16: UserWarning: \"Twitter\" has changed to \"Okt\" since KoNLPy v0.4.5.\n",
      "  warn('\"Twitter\" has changed to \"Okt\" since KoNLPy v0.4.5.')\n"
     ]
    }
   ],
   "source": [
    "from konlpy.tag import Twitter #+코모란\n",
    "tagger = Twitter()"
   ]
  },
  {
   "cell_type": "code",
   "execution_count": 19,
   "metadata": {},
   "outputs": [],
   "source": [
    "from sklearn.feature_extraction.text import CountVectorizer\n",
    "def kor_noun(text): \n",
    "    words = [] \n",
    "    for w in tagger.nouns(text): \n",
    "        if len(w) > 1: \n",
    "             words.append(w) \n",
    "    return words\n"
   ]
  },
  {
   "cell_type": "code",
   "execution_count": 20,
   "metadata": {},
   "outputs": [],
   "source": [
    "cv = CountVectorizer(tokenizer=kor_noun, max_features=1000)\n",
    "articles = df['article'].astype(str)\n",
    "tdm = cv.fit_transform(articles)\n",
    "words = cv.get_feature_names()\n",
    "#pd.DataFrame(imageKeyword_20190807).to_excel('imageKeyword_20190807.xlsx')\n",
    "\n",
    "\n",
    "import pandas as pd\n",
    "imageKeyword_20190807=sorted(list(zip(tdm.sum(axis=0).flat, words)), reverse=True)[:100]"
   ]
  },
  {
   "cell_type": "code",
   "execution_count": 21,
   "metadata": {},
   "outputs": [
    {
     "data": {
      "text/plain": [
       "[8, '현장']"
      ]
     },
     "execution_count": 21,
     "metadata": {},
     "output_type": "execute_result"
    }
   ],
   "source": [
    "list(imageKeyword_20190807[1])"
   ]
  },
  {
   "cell_type": "code",
   "execution_count": 23,
   "metadata": {},
   "outputs": [
    {
     "data": {
      "text/plain": [
       "['현장', '기자', '경기도', '오전']"
      ]
     },
     "execution_count": 23,
     "metadata": {},
     "output_type": "execute_result"
    }
   ],
   "source": [
    "keyword_20190807=list(pd.DataFrame(imageKeyword_20190807).iloc[[1,4,5,7],1]) #수작업해야 할 필요 있음\n",
    "keyword_20190807"
   ]
  },
  {
   "cell_type": "code",
   "execution_count": null,
   "metadata": {},
   "outputs": [
    {
     "name": "stdout",
     "output_type": "stream",
     "text": [
      "Total Count: 1\n",
      "Succsessful Count: 0\n",
      "URL: http://dn.joongdo.co.kr/mnt/images/file/2019y/08m/06d/2019080601000463100016721.jpg\n",
      "Total Count: 2\n",
      "Succsessful Count: 1\n",
      "URL: http://www.hdec.kr/Common/CMM/FileDownload.aspx?attIdx=6027\n",
      "can't get img\n",
      "Total Count: 3\n",
      "Succsessful Count: 1\n",
      "URL: http://www.kyongbuk.co.kr/news/photo/201708/1002750_282132_1032.jpg\n",
      "Total Count: 4\n",
      "Succsessful Count: 2\n",
      "URL: https://upload.wikimedia.org/wikipedia/commons/thumb/7/78/JourneytotheWest.jpg/450px-JourneytotheWest.jpg\n",
      "Total Count: 5\n",
      "Succsessful Count: 3\n",
      "URL: http://image.chosun.com/sitedata/image/201807/04/2018070400044_0.jpg\n",
      "Total Count: 6\n",
      "Succsessful Count: 4\n",
      "URL: http://file.mk.co.kr/meet/neds/2019/04/image_readtop_2019_202965_15542692593695682.jpg\n",
      "Total Count: 7\n",
      "Succsessful Count: 5\n",
      "URL: https://t1.daumcdn.net/cfile/tistory/2406FA375775DBA936\n",
      "Total Count: 8\n",
      "Succsessful Count: 6\n",
      "URL: https://t1.daumcdn.net/cfile/tistory/27632547592CDA2741\n",
      "Total Count: 9\n",
      "Succsessful Count: 7\n",
      "URL: http://img.hani.co.kr/imgdb/resize/2016/1209/00501719_20161209.JPG\n",
      "Total Count: 10\n",
      "Succsessful Count: 8\n",
      "URL: http://www.econovill.com/news/photo/201803/333803_195350_3028.jpg\n",
      "Total Count: 11\n",
      "Succsessful Count: 9\n",
      "URL: http://image.chosun.com/sitedata/image/201205/14/2012051402087_0.jpg\n",
      "Total Count: 12\n",
      "Succsessful Count: 10\n",
      "URL: http://newsimg.hankookilbo.com/2017/08/06/201708061876526040_1.jpg\n",
      "Total Count: 13\n",
      "Succsessful Count: 11\n",
      "URL: http://t1.daumcdn.net/liveboard/hankyungbusiness/3aca9fe8ed88430fbbcdcbc9666fb17b.jpg\n",
      "Total Count: 14\n",
      "Succsessful Count: 12\n",
      "URL: http://www.safetyin.co.kr/news/photo/201607/6181_5838_5347.jpg\n",
      "Total Count: 15\n",
      "Succsessful Count: 13\n",
      "URL: http://img.etoday.co.kr/pto_db/2015/06/20150625023901_662417_600_399.JPG\n",
      "Total Count: 16\n",
      "Succsessful Count: 14\n",
      "URL: http://www.safetyin.co.kr/news/photo/201711/8256_7839_336.jpg\n",
      "Total Count: 17\n",
      "Succsessful Count: 15\n",
      "URL: http://file.mk.co.kr/meet/neds/2018/06/image_readtop_2018_398918_15298896073363905.jpg\n",
      "Total Count: 18\n",
      "Succsessful Count: 16\n",
      "URL: https://blog.hmgjournal.com/images/contents/article/20170131_plent01.jpg\n"
     ]
    }
   ],
   "source": [
    "from selenium import webdriver\n",
    "from selenium.webdriver.common.keys import Keys\n",
    "import json\n",
    "import os\n",
    "import urllib\n",
    "import argparse\n",
    "import time\n",
    "from datetime import datetime\n",
    "\n",
    "#찾고자 하는 검색어를 url로 만들어 준다.\n",
    "for corekeyword in keyword_20190807:\n",
    "    \n",
    "    searchterm = corekeyword\n",
    "    url = \"https://www.google.co.in/search?q=\"+searchterm+\"&source=lnms&tbm=isch\"\n",
    "    # chrom webdriver 사용하여 브라우저를 가져온다.\n",
    "    browser = webdriver.Chrome('C:/chromedriver')\n",
    "    browser.get(url)\n",
    "\n",
    "    # User-Agent를 통해 봇이 아닌 유저정보라는 것을 위해 사용\n",
    "    header={'User-Agent':\"Mozilla/5.0 (Windows NT 6.1; WOW64) AppleWebKit/537.36 (KHTML, like Gecko) Chrome/43.0.2357.134 Safari/537.36\"}\n",
    "    # 이미지 카운트 (이미지 저장할 때 사용하기 위해서)\n",
    "    counter = 0\n",
    "    succounter = 0\n",
    "    def get_today():\n",
    "        global datetime \n",
    "        datetime = datetime.today().strftime(\"%Y-%m-%d\") #오늘 날짜로 파일 만들기\n",
    "        return datetime\n",
    "    \n",
    "    def make_folder(work_dir):\n",
    "        if not os.path.isdir(work_dir):\n",
    "            os.mkdir(work_dir)\n",
    "            \n",
    "    root_dir = \"C:/Users/user\"\n",
    "    today = get_today()\n",
    "    work_dir =  root_dir + \"/\" + today\n",
    "    make_folder(work_dir)\n",
    "\n",
    "\n",
    "    os.chdir(work_dir)\n",
    "    # 크롤링을 하는 날짜로 만든 폴더명에 접속, 이 폴더에 '검색어' 폴더가 없으면 만들어준다.(이미지 저장 폴더를 위해서)\n",
    "    if not os.path.exists(searchterm):\n",
    "        os.mkdir(searchterm)\n",
    "\n",
    "    for _ in range(200):\n",
    "        browser.execute_script(\"window.scrollBy(0,10000)\")\n",
    "\n",
    "\n",
    "    for x in browser.find_elements_by_xpath('//div[contains(@class,\"rg_meta\")]'): # div태그에서 class name이 rg_meta인 것을 찾아온다\n",
    "        counter = counter + 1\n",
    "        print(\"Total Count:\", counter)\n",
    "        print(\"Succsessful Count:\", succounter)\n",
    "        print(\"URL:\",json.loads(x.get_attribute('innerHTML'))[\"ou\"])\n",
    "\n",
    "        # 이미지 url\n",
    "        img = json.loads(x.get_attribute('innerHTML'))[\"ou\"]\n",
    "        # 이미지 확장자\n",
    "        imgtype = json.loads(x.get_attribute('innerHTML'))[\"ity\"]\n",
    "\n",
    "        # 구글 이미지를 읽고 저장한다.\n",
    "        try:\n",
    "            #req = urllib.request(img, headers={'User-Agent': header})\n",
    "            raw_img = urllib.request.urlopen(img).read()\n",
    "            File = open(os.path.join(searchterm , searchterm + \"_\" + str(counter) + \".\" + imgtype), \"wb\")\n",
    "            File.write(raw_img)\n",
    "            File.close()\n",
    "            succounter = succounter + 1\n",
    "        except:\n",
    "                print(\"can't get img\")\n",
    "    os.chdir(root_dir) #다시 root_dir로 돌아오기.\n",
    "    print(succounter, \"pictures succesfully downloaded\")"
   ]
  }
 ],
 "metadata": {
  "kernelspec": {
   "display_name": "Python 3",
   "language": "python",
   "name": "python3"
  },
  "language_info": {
   "codemirror_mode": {
    "name": "ipython",
    "version": 3
   },
   "file_extension": ".py",
   "mimetype": "text/x-python",
   "name": "python",
   "nbconvert_exporter": "python",
   "pygments_lexer": "ipython3",
   "version": "3.6.5"
  }
 },
 "nbformat": 4,
 "nbformat_minor": 2
}
