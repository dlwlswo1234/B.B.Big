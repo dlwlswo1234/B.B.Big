{
 "cells": [
  {
   "cell_type": "code",
   "execution_count": 149,
   "metadata": {
    "collapsed": true
   },
   "outputs": [],
   "source": [
    "from selenium import webdriver #selenium 을 통하여 크롤링을 실행한다.\n",
    "import pandas as pd\n",
    "#import time\n",
    "\n",
    "#driver = webdriver.Chrome('chromedriver232.exe')\n",
    "driver = webdriver.Chrome('chromedriver.exe')\n",
    "url = \"https://www.nfds.go.kr/stat/general.do\"\n",
    "driver.get(url)"
   ]
  },
  {
   "cell_type": "code",
   "execution_count": 150,
   "metadata": {
    "collapsed": true
   },
   "outputs": [],
   "source": [
    "#최초착화물 선택\n",
    "leadedSelect = driver.find_elements_by_css_selector(\"#collapse1 .i-search .i-search-item\")\n",
    "leadedSelect[4].click()"
   ]
  },
  {
   "cell_type": "code",
   "execution_count": 151,
   "metadata": {
    "collapsed": true
   },
   "outputs": [],
   "source": [
    "#검색버튼 클릭\n",
    "searchButton = driver.find_elements_by_css_selector(\".page-search .btn-green\")\n",
    "searchButton[0].click()"
   ]
  },
  {
   "cell_type": "code",
   "execution_count": 152,
   "metadata": {
    "collapsed": true
   },
   "outputs": [],
   "source": [
    "#하단 테이블 데이터 선택\n",
    "tableTbody = driver.find_element_by_xpath(\"//table[@class='oz-table']\").find_elements_by_tag_name('tbody')\n",
    "tableRows = tableTbody[0].find_elements_by_tag_name('tr')"
   ]
  },
  {
   "cell_type": "code",
   "execution_count": 153,
   "metadata": {
    "collapsed": true
   },
   "outputs": [],
   "source": []
  },
  {
   "cell_type": "code",
   "execution_count": 157,
   "metadata": {
    "collapsed": true
   },
   "outputs": [],
   "source": [
    "#하단 테이블 데이터 리스트로 추출\n",
    "leadedObject = []\n",
    "\n",
    "for tableRow in tableRows:\n",
    "    rowData = []\n",
    "    webTabelData = tableRow.find_elements_by_tag_name('td')\n",
    "    if len(webTabelData) == 0 or len(webTabelData) == 10:\n",
    "        continue\n",
    "    elif webTabelData[0].text == '합계' or webTabelData[0].text == '기타' or webTabelData[0].text == '미상':\n",
    "        continue\n",
    "\n",
    "    leadedObject.append([webTabelData[0].text , int(webTabelData[1].text)])\n",
    "    "
   ]
  },
  {
   "cell_type": "code",
   "execution_count": 177,
   "metadata": {},
   "outputs": [
    {
     "name": "stdout",
     "output_type": "stream",
     "text": [
      "                     물질  화재건수\n",
      "60                 전선피복   577\n",
      "17                  음식물   237\n",
      "82    플라스틱, PVC, 비닐, 장판   227\n",
      "21                  쓰레기   162\n",
      "68                   종이   142\n",
      "61             전자기기 부속품    83\n",
      "66               목재, 합판    79\n",
      "57          전기, 전자기기 기판    75\n",
      "62            콘센트, 스위치류    65\n",
      "59         전기, 전자기기 케이스    57\n",
      "48                 전기배선    49\n",
      "70               풀, 나뭇잎    42\n",
      "71        기타(종이,목재,건초등)    40\n",
      "63            기타(전기,전자)    37\n",
      "23               기타 쓰레기    35\n",
      "18                  튀김유    32\n",
      "46                   부품    31\n",
      "73                   의류    30\n",
      "84             기타(합성수지)    28\n",
      "47                  오일류    26\n",
      "79                 스티로폼    25\n",
      "56  기타(자동차,철도차량,선박,항공기)    20\n",
      "64                   건초    19\n",
      "20                   분진    18\n",
      "52                  타이어    14\n",
      "77             행주, 기름걸레    13\n",
      "19               기타(식품)    12\n",
      "78           기타(침구,직물류)    12\n",
      "11            기타(가연성가스)    11\n",
      "65                   나무    10\n",
      "..                  ...   ...\n",
      "25                   경유     2\n",
      "29                   등유     2\n",
      "44                   범퍼     2\n",
      "9                  천연가스     2\n",
      "5                  메탄가스     1\n",
      "7                  수소가스     1\n",
      "12                  광고판     1\n",
      "13                 네온사인     1\n",
      "76                   커튼     1\n",
      "15                 플래카드     1\n",
      "26       광택제, 파라핀, 왁스 등     1\n",
      "42                  방음재     1\n",
      "45                   벨트     1\n",
      "31          접착제, 레진, 타르     0\n",
      "32              제1류 위험물     0\n",
      "2              침대, 매트리스     0\n",
      "50         천연가스(자동차,철도)     0\n",
      "8                아세틸렌가스     0\n",
      "1              옷장, 책장 등     0\n",
      "38                 폭발물질     0\n",
      "37               특수가연물류     0\n",
      "36              제6류 위험물     0\n",
      "75                   카펫     0\n",
      "14                  차양막     0\n",
      "35              제5류 위험물     0\n",
      "16          기타(간판,차양막등)     0\n",
      "22                 폐타이어     0\n",
      "53        프로판가스(자동차,철도)     0\n",
      "34              제3류 위험물     0\n",
      "54                   화물     0\n",
      "\n",
      "[85 rows x 2 columns]\n"
     ]
    }
   ],
   "source": [
    "#to pandas dataframe\n",
    "leadedObjectTable = pd.DataFrame(leadedObject, columns = ['물질','화재건수'])\n",
    "print(leadedObjectTable.sort_values(by = '화재건수', ascending=False))"
   ]
  },
  {
   "cell_type": "code",
   "execution_count": 160,
   "metadata": {
    "collapsed": true
   },
   "outputs": [],
   "source": [
    "#write excel file\n",
    "leadedObjectTable\n",
    "leadedObjectTable.to_excel(\"leadedObjectTable.xlsx\")"
   ]
  },
  {
   "cell_type": "code",
   "execution_count": 182,
   "metadata": {
    "collapsed": true
   },
   "outputs": [],
   "source": [
    "leadedObjectTable.iloc[[73,64],0]\n",
    "leadedKeyword = list(leadedObjectTable.iloc[[73,64],0])"
   ]
  },
  {
   "cell_type": "code",
   "execution_count": 184,
   "metadata": {},
   "outputs": [
    {
     "data": {
      "text/plain": [
       "['의류', '건초']"
      ]
     },
     "execution_count": 184,
     "metadata": {},
     "output_type": "execute_result"
    }
   ],
   "source": [
    "leadedKeyword"
   ]
  },
  {
   "cell_type": "code",
   "execution_count": 186,
   "metadata": {
    "collapsed": true
   },
   "outputs": [],
   "source": [
    "def get_today():\n",
    "        global datetime \n",
    "        datetime = datetime.today().strftime(\"%Y-%m-%d\") #오늘 날짜로 파일 만들기\n",
    "        return datetime\n",
    "    \n",
    "def make_folder(work_dir):\n",
    "    if not os.path.isdir(work_dir):\n",
    "        os.mkdir(work_dir)"
   ]
  },
  {
   "cell_type": "code",
   "execution_count": 187,
   "metadata": {},
   "outputs": [
    {
     "ename": "WebDriverException",
     "evalue": "Message: unknown error: call function result missing 'value'\n  (Session info: chrome=75.0.3770.142)\n  (Driver info: chromedriver=2.32.498550 (9dec58e66c31bcc53a9ce3c7226f0c1c5810906a),platform=Windows NT 6.1.7601 SP1 x86_64)\n",
     "output_type": "error",
     "traceback": [
      "\u001b[1;31m---------------------------------------------------------------------------\u001b[0m",
      "\u001b[1;31mWebDriverException\u001b[0m                        Traceback (most recent call last)",
      "\u001b[1;32m<ipython-input-187-dcf105fb5f31>\u001b[0m in \u001b[0;36m<module>\u001b[1;34m()\u001b[0m\n\u001b[0;32m     36\u001b[0m \u001b[1;33m\u001b[0m\u001b[0m\n\u001b[0;32m     37\u001b[0m     \u001b[1;32mfor\u001b[0m \u001b[0m_\u001b[0m \u001b[1;32min\u001b[0m \u001b[0mrange\u001b[0m\u001b[1;33m(\u001b[0m\u001b[1;36m20\u001b[0m\u001b[1;33m)\u001b[0m\u001b[1;33m:\u001b[0m\u001b[1;33m\u001b[0m\u001b[0m\n\u001b[1;32m---> 38\u001b[1;33m         \u001b[0mbrowser\u001b[0m\u001b[1;33m.\u001b[0m\u001b[0mexecute_script\u001b[0m\u001b[1;33m(\u001b[0m\u001b[1;34m'window.scrollBy(0,20000)'\u001b[0m\u001b[1;33m)\u001b[0m\u001b[1;33m\u001b[0m\u001b[0m\n\u001b[0m\u001b[0;32m     39\u001b[0m         \u001b[0mdriver\u001b[0m\u001b[1;33m.\u001b[0m\u001b[0mfind_elements_by_css_selector\u001b[0m\u001b[1;33m(\u001b[0m\u001b[1;34m\"#smbw .ksb\"\u001b[0m\u001b[1;33m)\u001b[0m\u001b[1;33m[\u001b[0m\u001b[1;36m0\u001b[0m\u001b[1;33m]\u001b[0m\u001b[1;33m.\u001b[0m\u001b[0mclick\u001b[0m\u001b[1;33m(\u001b[0m\u001b[1;33m)\u001b[0m\u001b[1;33m\u001b[0m\u001b[0m\n\u001b[0;32m     40\u001b[0m \u001b[1;33m\u001b[0m\u001b[0m\n",
      "\u001b[1;32mC:\\ProgramData\\Anaconda3\\lib\\site-packages\\selenium\\webdriver\\remote\\webdriver.py\u001b[0m in \u001b[0;36mexecute_script\u001b[1;34m(self, script, *args)\u001b[0m\n\u001b[0;32m    634\u001b[0m         return self.execute(command, {\n\u001b[0;32m    635\u001b[0m             \u001b[1;34m'script'\u001b[0m\u001b[1;33m:\u001b[0m \u001b[0mscript\u001b[0m\u001b[1;33m,\u001b[0m\u001b[1;33m\u001b[0m\u001b[0m\n\u001b[1;32m--> 636\u001b[1;33m             'args': converted_args})['value']\n\u001b[0m\u001b[0;32m    637\u001b[0m \u001b[1;33m\u001b[0m\u001b[0m\n\u001b[0;32m    638\u001b[0m     \u001b[1;32mdef\u001b[0m \u001b[0mexecute_async_script\u001b[0m\u001b[1;33m(\u001b[0m\u001b[0mself\u001b[0m\u001b[1;33m,\u001b[0m \u001b[0mscript\u001b[0m\u001b[1;33m,\u001b[0m \u001b[1;33m*\u001b[0m\u001b[0margs\u001b[0m\u001b[1;33m)\u001b[0m\u001b[1;33m:\u001b[0m\u001b[1;33m\u001b[0m\u001b[0m\n",
      "\u001b[1;32mC:\\ProgramData\\Anaconda3\\lib\\site-packages\\selenium\\webdriver\\remote\\webdriver.py\u001b[0m in \u001b[0;36mexecute\u001b[1;34m(self, driver_command, params)\u001b[0m\n\u001b[0;32m    319\u001b[0m         \u001b[0mresponse\u001b[0m \u001b[1;33m=\u001b[0m \u001b[0mself\u001b[0m\u001b[1;33m.\u001b[0m\u001b[0mcommand_executor\u001b[0m\u001b[1;33m.\u001b[0m\u001b[0mexecute\u001b[0m\u001b[1;33m(\u001b[0m\u001b[0mdriver_command\u001b[0m\u001b[1;33m,\u001b[0m \u001b[0mparams\u001b[0m\u001b[1;33m)\u001b[0m\u001b[1;33m\u001b[0m\u001b[0m\n\u001b[0;32m    320\u001b[0m         \u001b[1;32mif\u001b[0m \u001b[0mresponse\u001b[0m\u001b[1;33m:\u001b[0m\u001b[1;33m\u001b[0m\u001b[0m\n\u001b[1;32m--> 321\u001b[1;33m             \u001b[0mself\u001b[0m\u001b[1;33m.\u001b[0m\u001b[0merror_handler\u001b[0m\u001b[1;33m.\u001b[0m\u001b[0mcheck_response\u001b[0m\u001b[1;33m(\u001b[0m\u001b[0mresponse\u001b[0m\u001b[1;33m)\u001b[0m\u001b[1;33m\u001b[0m\u001b[0m\n\u001b[0m\u001b[0;32m    322\u001b[0m             response['value'] = self._unwrap_value(\n\u001b[0;32m    323\u001b[0m                 response.get('value', None))\n",
      "\u001b[1;32mC:\\ProgramData\\Anaconda3\\lib\\site-packages\\selenium\\webdriver\\remote\\errorhandler.py\u001b[0m in \u001b[0;36mcheck_response\u001b[1;34m(self, response)\u001b[0m\n\u001b[0;32m    240\u001b[0m                 \u001b[0malert_text\u001b[0m \u001b[1;33m=\u001b[0m \u001b[0mvalue\u001b[0m\u001b[1;33m[\u001b[0m\u001b[1;34m'alert'\u001b[0m\u001b[1;33m]\u001b[0m\u001b[1;33m.\u001b[0m\u001b[0mget\u001b[0m\u001b[1;33m(\u001b[0m\u001b[1;34m'text'\u001b[0m\u001b[1;33m)\u001b[0m\u001b[1;33m\u001b[0m\u001b[0m\n\u001b[0;32m    241\u001b[0m             \u001b[1;32mraise\u001b[0m \u001b[0mexception_class\u001b[0m\u001b[1;33m(\u001b[0m\u001b[0mmessage\u001b[0m\u001b[1;33m,\u001b[0m \u001b[0mscreen\u001b[0m\u001b[1;33m,\u001b[0m \u001b[0mstacktrace\u001b[0m\u001b[1;33m,\u001b[0m \u001b[0malert_text\u001b[0m\u001b[1;33m)\u001b[0m\u001b[1;33m\u001b[0m\u001b[0m\n\u001b[1;32m--> 242\u001b[1;33m         \u001b[1;32mraise\u001b[0m \u001b[0mexception_class\u001b[0m\u001b[1;33m(\u001b[0m\u001b[0mmessage\u001b[0m\u001b[1;33m,\u001b[0m \u001b[0mscreen\u001b[0m\u001b[1;33m,\u001b[0m \u001b[0mstacktrace\u001b[0m\u001b[1;33m)\u001b[0m\u001b[1;33m\u001b[0m\u001b[0m\n\u001b[0m\u001b[0;32m    243\u001b[0m \u001b[1;33m\u001b[0m\u001b[0m\n\u001b[0;32m    244\u001b[0m     \u001b[1;32mdef\u001b[0m \u001b[0m_value_or_default\u001b[0m\u001b[1;33m(\u001b[0m\u001b[0mself\u001b[0m\u001b[1;33m,\u001b[0m \u001b[0mobj\u001b[0m\u001b[1;33m,\u001b[0m \u001b[0mkey\u001b[0m\u001b[1;33m,\u001b[0m \u001b[0mdefault\u001b[0m\u001b[1;33m)\u001b[0m\u001b[1;33m:\u001b[0m\u001b[1;33m\u001b[0m\u001b[0m\n",
      "\u001b[1;31mWebDriverException\u001b[0m: Message: unknown error: call function result missing 'value'\n  (Session info: chrome=75.0.3770.142)\n  (Driver info: chromedriver=2.32.498550 (9dec58e66c31bcc53a9ce3c7226f0c1c5810906a),platform=Windows NT 6.1.7601 SP1 x86_64)\n"
     ]
    }
   ],
   "source": [
    "#from selenium import webdriver\n",
    "from selenium.webdriver.common.keys import Keys\n",
    "import json\n",
    "import os\n",
    "import urllib\n",
    "import argparse\n",
    "import time\n",
    "from datetime import datetime\n",
    "\n",
    "#찾고자 하는 검색어를 url로 만들어 준다.\n",
    "for corekeyword in leadedKeyword:\n",
    "    \n",
    "    searchterm = corekeyword\n",
    "    url = \"https://www.google.co.in/search?q=\"+searchterm+\"&source=lnms&tbm=isch\"\n",
    "    # chrom webdriver 사용하여 브라우저를 가져온다.\n",
    "    #browser = webdriver.Chrome('C:/chromedriver')\n",
    "    browser = webdriver.Chrome('C:/Users/gonybella/chromedriver232.exe')\n",
    "    browser.get(url)\n",
    "\n",
    "    # User-Agent를 통해 봇이 아닌 유저정보라는 것을 위해 사용\n",
    "    header={'User-Agent':\"Mozilla/5.0 (Windows NT 6.1; WOW64) AppleWebKit/537.36 (KHTML, like Gecko) Chrome/43.0.2357.134 Safari/537.36\"}\n",
    "    # 이미지 카운트 (이미지 저장할 때 사용하기 위해서)\n",
    "    counter = 0\n",
    "    succounter = 0\n",
    "    \n",
    "    root_dir = os.getcwd()\n",
    "    today = get_today()\n",
    "    work_dir =  root_dir + \"/\" + today\n",
    "    make_folder(work_dir)\n",
    "\n",
    "    os.chdir(work_dir)\n",
    "    \n",
    "    # 크롤링을 하는 날짜로 만든 폴더명에 접속, 이 폴더에 '검색어' 폴더가 없으면 만들어준다.(이미지 저장 폴더를 위해서)\n",
    "    if not os.path.exists(searchterm):\n",
    "        os.mkdir(searchterm)\n",
    "\n",
    "    for _ in range(20):\n",
    "        browser.execute_script('window.scrollBy(0,20000)')\n",
    "        if len(driver.find_elements_by_css_selector(\"#smbw .ksb\")) > 0\n",
    "            driver.find_elements_by_css_selector(\"#smbw .ksb\")[0].click()\n",
    "\n",
    "\n",
    "    for x in browser.find_elements_by_xpath('//div[contains(@class,\"rg_meta\")]'): # div태그에서 class name이 rg_meta인 것을 찾아온다\n",
    "        counter = counter + 1\n",
    "        print(\"Total Count:\", counter)\n",
    "        print(\"Succsessful Count:\", succounter)\n",
    "        print(\"URL:\",json.loads(x.get_attribute('innerHTML'))[\"ou\"])\n",
    "\n",
    "        # 이미지 url\n",
    "        img = json.loads(x.get_attribute('innerHTML'))[\"ou\"]\n",
    "        # 이미지 확장자\n",
    "        imgtype = json.loads(x.get_attribute('innerHTML'))[\"ity\"]\n",
    "\n",
    "        # 구글 이미지를 읽고 저장한다.\n",
    "        try:\n",
    "            #req = urllib.request(img, headers={'User-Agent': header})\n",
    "            raw_img = urllib.request.urlopen(img).read()\n",
    "            File = open(os.path.join(searchterm , searchterm + \"_\" + str(counter) + \".\" + imgtype), \"wb\")\n",
    "            File.write(raw_img)\n",
    "            File.close()\n",
    "            succounter = succounter + 1\n",
    "        except:\n",
    "                print(\"can't get img\")\n",
    "    os.chdir(root_dir) #다시 root_dir로 돌아오기.\n",
    "    print(succounter, \"pictures succesfully downloaded\")"
   ]
  }
 ],
 "metadata": {
  "kernelspec": {
   "display_name": "Python 3",
   "language": "python",
   "name": "python3"
  },
  "language_info": {
   "codemirror_mode": {
    "name": "ipython",
    "version": 3
   },
   "file_extension": ".py",
   "mimetype": "text/x-python",
   "name": "python",
   "nbconvert_exporter": "python",
   "pygments_lexer": "ipython3",
   "version": "3.6.1"
  }
 },
 "nbformat": 4,
 "nbformat_minor": 2
}
